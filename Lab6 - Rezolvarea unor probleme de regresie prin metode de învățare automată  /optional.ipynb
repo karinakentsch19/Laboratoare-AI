{
 "cells": [
  {
   "cell_type": "markdown",
   "metadata": {},
   "source": [
    "# Ce se întamplă în cazul clasificarii binare daca se modifică pragul de decizie din 0.5 în alte valori. Cum se poate aprecia calitatea clasificatorului pentru diferite valori ale pragului?"
   ]
  },
  {
   "cell_type": "markdown",
   "metadata": {},
   "source": [
    "#### Raspuns: Daca pragul este mai mare (de exemplu 0.8) atunci sansele ca algoritmul sa prezica corect label-ul pozitiv sunt mai mici. Aceasta situatie poate conduce de exemplu la clasificarea unor pacienti bolnavi ca fiind sanatosi, ceea ce nu este de dorit. Daca pragul este mai mic, sansele ca cei bolnavi sa fie clasificati corect sunt mai mari. (nu este atat de grav daca pacientii sanatosi sunt considerati bolnavi) "
   ]
  },
  {
   "cell_type": "markdown",
   "metadata": {},
   "source": [
    "# Rezolvarea unei probleme de regresie/clasificare prin: folosirea validarii încrucișate (K-fold cross validation) - pb cu happiness dupa pib"
   ]
  },
  {
   "cell_type": "code",
   "execution_count": 13,
   "metadata": {},
   "outputs": [],
   "source": [
    "import csv\n",
    "import os\n",
    "import matplotlib.pyplot as plt\n",
    "import numpy as np \n",
    "from sklearn import linear_model\n",
    "import pandas as pd \n",
    "from sklearn.metrics import mean_squared_error\n",
    "\n",
    "\n",
    "#Ce îi poate face pe oameni fericiți? - dupa PIB\n",
    "def readData(dataPath: str):\n",
    "    df = pd.read_csv(dataPath, delimiter=',', header='infer')\n",
    "    df = df.dropna()\n",
    "    return df\n",
    "\n",
    "#split data frame in k sets\n",
    "def splitDataInKSets(dataFrame, k):\n",
    "    size = dataFrame.shape[0]\n",
    "    arr = np.array_split(range(size),k) \n",
    "    input = [[dataFrame[\"Economy..GDP.per.Capita.\"].iloc[i] for i in index] for index in arr]\n",
    "    output = [[dataFrame[\"Happiness.Score\"].iloc[i] for i in index] for index in arr]\n",
    "    return input, output\n",
    "\n",
    "def getErrors(computed_output, validation_output):\n",
    "    computedError = mean_squared_error(validation_output, computed_output)\n",
    "    return computedError\n",
    "\n",
    "def trainRegressor(regressor, dataFrame, k):\n",
    "    errors = []\n",
    "    input, output = splitDataInKSets(dataFrame, k)\n",
    "    for i in range(0, k):\n",
    "        validationInputSet = input[i]\n",
    "        validationOutputSet = output[i]\n",
    "        trainingInputSet = []\n",
    "        trainingOutputSet = []\n",
    "        for j in range(0, k):\n",
    "            if j != i:\n",
    "                trainingInputSet += input[j]\n",
    "                trainingOutputSet += output[j]\n",
    "        regressor.partial_fit([[trainingInputSet[ind]] for ind in range(0, len(trainingInputSet))], trainingOutputSet)\n",
    "        computed_output = regressor.predict([[validationInputSet[ind]] for ind in range(0, len(validationInputSet))])\n",
    "        errors.append(getErrors(computed_output, validationOutputSet))\n",
    "    return errors"
   ]
  },
  {
   "cell_type": "code",
   "execution_count": 25,
   "metadata": {},
   "outputs": [
    {
     "name": "stdout",
     "output_type": "stream",
     "text": [
      "[10.380478165717864, 2.343952974107564, 0.4667713607167022, 0.5148440436904708, 0.5450812913388456, 0.3992505269318201]\n",
      "Overall error =  2.4417297270838776\n"
     ]
    }
   ],
   "source": [
    "dataFrame = readData(\"2017.csv\")\n",
    "regressor = linear_model.SGDRegressor()\n",
    "errors = trainRegressor(regressor, dataFrame, 6)\n",
    "print(errors)\n",
    "overallError = sum(errors) / len(errors)\n",
    "print(\"Overall error = \", overallError)"
   ]
  }
 ],
 "metadata": {
  "kernelspec": {
   "display_name": "Python 3",
   "language": "python",
   "name": "python3"
  },
  "language_info": {
   "codemirror_mode": {
    "name": "ipython",
    "version": 3
   },
   "file_extension": ".py",
   "mimetype": "text/x-python",
   "name": "python",
   "nbconvert_exporter": "python",
   "pygments_lexer": "ipython3",
   "version": "3.10.13"
  }
 },
 "nbformat": 4,
 "nbformat_minor": 2
}
