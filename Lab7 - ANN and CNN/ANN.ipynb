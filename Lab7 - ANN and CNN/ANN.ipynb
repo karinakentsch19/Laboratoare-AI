{
 "cells": [
  {
   "cell_type": "code",
   "execution_count": null,
   "metadata": {},
   "outputs": [],
   "source": [
    "from cmath import exp\n",
    "\n",
    "class Neuron:\n",
    "    def __init__(self, activation_function=lambda x: x, learning_rate=0.001) -> None:\n",
    "        self.activation_function = activation_function\n",
    "        self.learning_rate = learning_rate\n",
    "        self.weights = []\n",
    "    \n",
    "    def setWeights(self, n:int):\n",
    "        for _ in range(n):\n",
    "            self.weights.append(np.random.randn())\n",
    "\n",
    "    def setWeightsForInputLayer(self):\n",
    "        self.weights = [1]\n",
    "\n",
    "    def proceed(self, inputs):\n",
    "        return self.activation_function(sum())\n",
    "        "
   ]
  }
 ],
 "metadata": {
  "language_info": {
   "name": "python"
  }
 },
 "nbformat": 4,
 "nbformat_minor": 2
}
