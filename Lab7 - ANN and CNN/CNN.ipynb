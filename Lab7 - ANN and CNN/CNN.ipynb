{
 "cells": [
  {
   "cell_type": "code",
   "execution_count": 4,
   "metadata": {},
   "outputs": [],
   "source": [
    "from numpy.random import randn\n",
    "\n",
    "class CnnNetwork:\n",
    "    def __init__(self) -> None:\n",
    "        self.layers = []\n",
    "\n",
    "    def addConvolutionLayer(self, numberOfFilters, filterSize):\n",
    "        height, width = filterSize\n",
    "        filters = [[randn() for i in range(0, width)] for j in range(0, height)]\n",
    "        self.layers.append({\"type\": \"convolution\", \"numberOfFilters\": numberOfFilters, \"filter\": filters, \"filterSize\": filterSize})\n",
    "\n",
    "    def addMaxPoolingLayer(self, filterSize):\n",
    "        self.layers.append({\"type\": \"maxPooling\", \"filterSize\": filterSize})\n",
    "        \n",
    "    def addFullyConnectedLayer(self, inputSize, outputSize, activationFunction= lambda x: x):\n",
    "        weights = [[randn() for j in range(0, inputSize)] for i in range(0, outputSize)]\n",
    "        self.layers.append({\"type\": \"fullyConnected\", \"weights\": weights, \"activationFunction\": activationFunction})\n",
    "\n",
    "    #primim un layer (de orice tip) si in functie de tipul dat si se aplica regulile specifice\n",
    "    def _applyLayer(self, input, layer):\n",
    "        type = layer[\"type\"]\n",
    "        if type == \"convolution\":\n",
    "            return self.applyConvolution(layer, input)\n",
    "        elif type == \"maxPooling\":\n",
    "            return self.applyMaxPooling(layer, input)\n",
    "        else:\n",
    "            return self.applyFullyConnected(layer, input)\n",
    "\n",
    "    def applyConvolution(self, layer, input):\n",
    "        height, width, depth = len(input), len(input[0]), len(input[0][0])\n",
    "        filter = layer[\"filter\"]\n",
    "        filterSize = layer[\"filterSize\"]\n",
    "        numberOfFilters = layer[\"numberOfFilters\"]\n",
    "\n",
    "        lineStart = filterSize[0] // 2\n",
    "        lineFinish = height - filterSize[0] // 2\n",
    "\n",
    "\n",
    "    def applyMaxPooling(self, layer, input):\n",
    "        return\n",
    "\n",
    "    def applyFullyConnected(self, layer, input):\n",
    "        return\n",
    "         "
   ]
  },
  {
   "cell_type": "code",
   "execution_count": null,
   "metadata": {},
   "outputs": [],
   "source": []
  }
 ],
 "metadata": {
  "kernelspec": {
   "display_name": "Python 3",
   "language": "python",
   "name": "python3"
  },
  "language_info": {
   "codemirror_mode": {
    "name": "ipython",
    "version": 3
   },
   "file_extension": ".py",
   "mimetype": "text/x-python",
   "name": "python",
   "nbconvert_exporter": "python",
   "pygments_lexer": "ipython3",
   "version": "3.10.13"
  }
 },
 "nbformat": 4,
 "nbformat_minor": 2
}
