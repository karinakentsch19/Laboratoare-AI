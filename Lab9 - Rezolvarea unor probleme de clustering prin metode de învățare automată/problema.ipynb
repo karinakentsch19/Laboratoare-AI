{
 "cells": [
  {
   "cell_type": "markdown",
   "metadata": {},
   "source": [
    "# EXTRAGERE CARACTERISTICI DIN TEXTE"
   ]
  },
  {
   "cell_type": "markdown",
   "metadata": {},
   "source": [
    "## TF-IDF"
   ]
  },
  {
   "cell_type": "code",
   "execution_count": 3,
   "metadata": {},
   "outputs": [],
   "source": [
    "from sklearn.feature_extraction.text import TfidfVectorizer\n",
    "\n",
    "def tfIdf(trainingInput, validationInput, maxNumberOfFeatures=50):\n",
    "    v = TfidfVectorizer(max_features=maxNumberOfFeatures)\n",
    "    featuresForTraining = v.fit_transform(trainingInput)\n",
    "    featuresForValidation = v.transform(validationInput)\n",
    "    return featuresForTraining, featuresForValidation\n"
   ]
  },
  {
   "cell_type": "markdown",
   "metadata": {},
   "source": [
    "## Bag of Words"
   ]
  },
  {
   "cell_type": "code",
   "execution_count": 4,
   "metadata": {},
   "outputs": [],
   "source": [
    "from sklearn.feature_extraction.text import CountVectorizer\n",
    "\n",
    "def bagOfWords(trainingInput, validationInput):\n",
    "    v = CountVectorizer()\n",
    "    featuresForTraining = v.fit_transform(trainingInput)\n",
    "    featuresForValidation = v.transform(validationInput)\n",
    "    return featuresForTraining, featuresForValidation\n"
   ]
  },
  {
   "cell_type": "markdown",
   "metadata": {},
   "source": [
    "## ALTE CARACTERISTICI"
   ]
  },
  {
   "cell_type": "markdown",
   "metadata": {},
   "source": [
    "## Bert"
   ]
  },
  {
   "cell_type": "code",
   "execution_count": null,
   "metadata": {},
   "outputs": [],
   "source": [
    "from transformers import BertTokenizer, BertModel\n",
    "import torch\n",
    "\n",
    "def bertEmbeddings(trainingInput):\n",
    "    tokenizer = BertTokenizer.from_pretrained(\"bert-base-uncased\")\n",
    "    model = BertModel.from_pretrained('bert-base-uncased')\n",
    "    "
   ]
  }
 ],
 "metadata": {
  "kernelspec": {
   "display_name": "Python 3",
   "language": "python",
   "name": "python3"
  },
  "language_info": {
   "codemirror_mode": {
    "name": "ipython",
    "version": 3
   },
   "file_extension": ".py",
   "mimetype": "text/x-python",
   "name": "python",
   "nbconvert_exporter": "python",
   "pygments_lexer": "ipython3",
   "version": "3.10.13"
  }
 },
 "nbformat": 4,
 "nbformat_minor": 2
}
