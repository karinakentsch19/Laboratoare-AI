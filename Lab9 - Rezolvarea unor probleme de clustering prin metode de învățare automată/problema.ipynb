{
 "cells": [
  {
   "cell_type": "markdown",
   "metadata": {},
   "source": [
    "# EXTRAGERE CARACTERISTICI DIN TEXTE"
   ]
  },
  {
   "cell_type": "markdown",
   "metadata": {},
   "source": [
    "## TF-IDF"
   ]
  },
  {
   "cell_type": "code",
   "execution_count": 3,
   "metadata": {},
   "outputs": [],
   "source": [
    "from sklearn.feature_extraction.text import TfidfVectorizer\n",
    "\n",
    "def tfIdf(trainingInput, validationInput, maxNumberOfFeatures=50):\n",
    "    v = TfidfVectorizer(max_features=maxNumberOfFeatures)\n",
    "    featuresForTraining = v.fit_transform(trainingInput)\n",
    "    featuresForValidation = v.transform(validationInput)\n",
    "    return featuresForTraining, featuresForValidation\n"
   ]
  },
  {
   "cell_type": "markdown",
   "metadata": {},
   "source": [
    "## Bag of Words"
   ]
  },
  {
   "cell_type": "code",
   "execution_count": 4,
   "metadata": {},
   "outputs": [],
   "source": [
    "from sklearn.feature_extraction.text import CountVectorizer\n",
    "\n",
    "def bagOfWords(trainingInput, validationInput):\n",
    "    v = CountVectorizer()\n",
    "    featuresForTraining = v.fit_transform(trainingInput)\n",
    "    featuresForValidation = v.transform(validationInput)\n",
    "    return featuresForTraining, featuresForValidation\n"
   ]
  },
  {
   "cell_type": "markdown",
   "metadata": {},
   "source": [
    "## ALTE CARACTERISTICI"
   ]
  },
  {
   "cell_type": "markdown",
   "metadata": {},
   "source": [
    "## Bert"
   ]
  },
  {
   "cell_type": "code",
   "execution_count": 8,
   "metadata": {},
   "outputs": [],
   "source": [
    "from transformers import BertTokenizer, BertModel\n",
    "import torch\n",
    "\n",
    "def bertEmbeddings(trainingInput):\n",
    "    allEmbeddings = []\n",
    "\n",
    "    tokenizer = BertTokenizer.from_pretrained(\"bert-base-uncased\", force_download=True)\n",
    "    model = BertModel.from_pretrained('bert-base-uncased', force_download=True)\n",
    "\n",
    "    for input in trainingInput:\n",
    "        input_ids = tokenizer.encode(input, add_special_tokens=True, max_length=128, truncation=True, return_tensors='pt')\n",
    "\n",
    "        with torch.no_grad():\n",
    "            outputs = model(input_ids)\n",
    "            contextualEmbeddings = outputs.last_hidden_state\n",
    "\n",
    "        allEmbeddings.append(contextualEmbeddings)\n",
    "    return allEmbeddings\n"
   ]
  },
  {
   "cell_type": "code",
   "execution_count": 10,
   "metadata": {},
   "outputs": [
    {
     "data": {
      "application/vnd.jupyter.widget-view+json": {
       "model_id": "304e3cf014eb43d2a97e07cfcc566cfc",
       "version_major": 2,
       "version_minor": 0
      },
      "text/plain": [
       "tokenizer_config.json:   0%|          | 0.00/48.0 [00:00<?, ?B/s]"
      ]
     },
     "metadata": {},
     "output_type": "display_data"
    },
    {
     "data": {
      "application/vnd.jupyter.widget-view+json": {
       "model_id": "c157896009a64dbda16ef1dbff242e12",
       "version_major": 2,
       "version_minor": 0
      },
      "text/plain": [
       "vocab.txt:   0%|          | 0.00/232k [00:00<?, ?B/s]"
      ]
     },
     "metadata": {},
     "output_type": "display_data"
    },
    {
     "data": {
      "application/vnd.jupyter.widget-view+json": {
       "model_id": "1e6f2ef584124a138516361b1136b33e",
       "version_major": 2,
       "version_minor": 0
      },
      "text/plain": [
       "tokenizer_config.json:   0%|          | 0.00/48.0 [00:00<?, ?B/s]"
      ]
     },
     "metadata": {},
     "output_type": "display_data"
    },
    {
     "data": {
      "application/vnd.jupyter.widget-view+json": {
       "model_id": "934e17e472224f0a8c39a8599b929921",
       "version_major": 2,
       "version_minor": 0
      },
      "text/plain": [
       "tokenizer.json:   0%|          | 0.00/466k [00:00<?, ?B/s]"
      ]
     },
     "metadata": {},
     "output_type": "display_data"
    },
    {
     "data": {
      "application/vnd.jupyter.widget-view+json": {
       "model_id": "cc67e28e91d24613ba690a7af171dd5e",
       "version_major": 2,
       "version_minor": 0
      },
      "text/plain": [
       "config.json:   0%|          | 0.00/570 [00:00<?, ?B/s]"
      ]
     },
     "metadata": {},
     "output_type": "display_data"
    },
    {
     "data": {
      "application/vnd.jupyter.widget-view+json": {
       "model_id": "ec940f3e06894fd48b4bbad6e45bd33d",
       "version_major": 2,
       "version_minor": 0
      },
      "text/plain": [
       "config.json:   0%|          | 0.00/570 [00:00<?, ?B/s]"
      ]
     },
     "metadata": {},
     "output_type": "display_data"
    },
    {
     "data": {
      "application/vnd.jupyter.widget-view+json": {
       "model_id": "ddcb7d49fab141fdbdd49d88902a79b2",
       "version_major": 2,
       "version_minor": 0
      },
      "text/plain": [
       "model.safetensors:   0%|          | 0.00/440M [00:00<?, ?B/s]"
      ]
     },
     "metadata": {},
     "output_type": "display_data"
    },
    {
     "name": "stdout",
     "output_type": "stream",
     "text": [
      "By choosing a bike over a car, I’m reducing my environmental footprint. Cycling promotes eco-friendly transportation, and I’m proud to be part of that movement..\n",
      "tensor([[[ 0.2849,  0.1456, -0.3721,  ...,  0.0334,  0.6419, -0.2261],\n",
      "         [ 0.0092,  0.3518, -0.6721,  ..., -0.2276,  0.3777,  0.6179],\n",
      "         [-0.0589,  0.1439, -0.2848,  ..., -0.3173,  0.0623,  0.2125],\n",
      "         ...,\n",
      "         [ 0.4903, -0.6535,  0.4232,  ...,  0.5028,  0.4519, -0.6911],\n",
      "         [ 0.1742, -0.7943,  0.3039,  ...,  0.4251,  0.2958, -0.8385],\n",
      "         [-0.2658,  0.3544, -0.0851,  ...,  0.6068, -0.6796, -0.6546]]])\n"
     ]
    }
   ],
   "source": [
    "initial = [\"By choosing a bike over a car, I’m reducing my environmental footprint. Cycling promotes eco-friendly transportation, and I’m proud to be part of that movement..\"]\n",
    "embedding = bertEmbeddings(initial)\n",
    "\n",
    "for e,sentence in zip(embedding, initial):\n",
    "    print(sentence)\n",
    "    print(e)"
   ]
  },
  {
   "cell_type": "markdown",
   "metadata": {},
   "source": [
    "## Stemming - taie sufixele de la cuvinte\n"
   ]
  },
  {
   "cell_type": "code",
   "execution_count": 12,
   "metadata": {},
   "outputs": [
    {
     "name": "stderr",
     "output_type": "stream",
     "text": [
      "[nltk_data] Downloading package punkt to /home/codespace/nltk_data...\n",
      "[nltk_data]   Package punkt is already up-to-date!\n"
     ]
    }
   ],
   "source": [
    "import nltk\n",
    "nltk.download('punkt')\n",
    "\n",
    "from nltk.stem import PorterStemmer\n",
    "from nltk.tokenize import word_tokenize\n",
    "\n",
    "def stemming(trainingInput, validationInput):\n",
    "    trainingTokens = [word_tokenize(text) for text in trainingInput]\n",
    "    validationTokens = [word_tokenize(text) for text in validationInput]\n",
    "\n",
    "    s = PorterStemmer()\n",
    "    trainingInputStemmedWords = [[s.stem(word) for word in words] for words in trainingTokens]\n",
    "    validationInputStemmedWords = [[s.stem(word) for word in words] for words in validationTokens]\n",
    "\n",
    "    trainingInputStemmedSentences = [' '.join(words) for words in trainingInputStemmedWords]\n",
    "    validationInputStemmedSentences = [' '.join(words) for words in validationInputStemmedWords]\n",
    "\n",
    "    return trainingInputStemmedSentences, validationInputStemmedSentences\n"
   ]
  },
  {
   "cell_type": "code",
   "execution_count": 15,
   "metadata": {},
   "outputs": [
    {
     "name": "stdout",
     "output_type": "stream",
     "text": [
      "BEFORE\n",
      "['By choosing a bike over a car, I’m reducing my environmental footprint. Cycling promotes eco-friendly transportation, and I’m proud to be part of that movement..']\n",
      "AFTER\n",
      "['by choos a bike over a car , i ’ m reduc my environment footprint . cycl promot eco-friendli transport , and i ’ m proud to be part of that movement ..']\n",
      "BEFORE\n",
      "['I wanted to go on a ride last night but I was taking a shower.']\n",
      "AFTER\n",
      "['i want to go on a ride last night but i wa take a shower .']\n"
     ]
    }
   ],
   "source": [
    "sentence1 = [\"By choosing a bike over a car, I’m reducing my environmental footprint. Cycling promotes eco-friendly transportation, and I’m proud to be part of that movement..\"]\n",
    "sentence2 = [\"I wanted to go on a ride last night but I was taking a shower.\"]\n",
    "\n",
    "output1, output2 = stemming(sentence1, sentence2)\n",
    "print(\"BEFORE\")\n",
    "print(sentence1)\n",
    "print(\"AFTER\")\n",
    "print(output1)\n",
    "\n",
    "print(\"BEFORE\")\n",
    "print(sentence2)\n",
    "print(\"AFTER\")\n",
    "print(output2)"
   ]
  },
  {
   "cell_type": "markdown",
   "metadata": {},
   "source": [
    "## Stop words removal - elimina cuvintele de legatura (cuvinte scurte)"
   ]
  },
  {
   "cell_type": "code",
   "execution_count": 18,
   "metadata": {},
   "outputs": [
    {
     "name": "stderr",
     "output_type": "stream",
     "text": [
      "[nltk_data] Downloading package stopwords to\n",
      "[nltk_data]     /home/codespace/nltk_data...\n",
      "[nltk_data]   Package stopwords is already up-to-date!\n",
      "[nltk_data] Downloading package punkt to /home/codespace/nltk_data...\n",
      "[nltk_data]   Package punkt is already up-to-date!\n"
     ]
    }
   ],
   "source": [
    "import nltk\n",
    "nltk.download('stopwords')\n",
    "nltk.download('punkt')\n",
    "\n",
    "from nltk.corpus import stopwords\n",
    "from nltk.tokenize import word_tokenize\n",
    "\n",
    "def stopWordsRemoval(trainingInput, validationInput):\n",
    "    trainingTokens = [word_tokenize(text) for text in trainingInput]\n",
    "    validationTokens = [word_tokenize(text) for text in validationInput]\n",
    "    stopWords = set(stopwords.words('english'))\n",
    "\n",
    "    trainingInputStemmedWords = [[word for word in words if word not in stopWords] for words in trainingTokens]\n",
    "    validationInputStemmedWords = [[word for word in words if word not in stopWords] for words in validationTokens]\n",
    "\n",
    "    trainingInputStemmedSentences = [' '.join(words) for words in trainingInputStemmedWords]\n",
    "    validationInputStemmedSentences = [' '.join(words) for words in validationInputStemmedWords]\n",
    "\n",
    "    return trainingInputStemmedSentences, validationInputStemmedSentences"
   ]
  },
  {
   "cell_type": "code",
   "execution_count": 19,
   "metadata": {},
   "outputs": [
    {
     "name": "stdout",
     "output_type": "stream",
     "text": [
      "BEFORE\n",
      "['By choosing a bike over a car, I’m reducing my environmental footprint. Cycling promotes eco-friendly transportation, and I’m proud to be part of that movement..']\n",
      "AFTER\n",
      "['By choosing bike car , I ’ reducing environmental footprint . Cycling promotes eco-friendly transportation , I ’ proud part movement ..']\n",
      "BEFORE\n",
      "['I wanted to go on a ride last night but I was taking a shower.']\n",
      "AFTER\n",
      "['I wanted go ride last night I taking shower .']\n"
     ]
    }
   ],
   "source": [
    "sentence1 = [\"By choosing a bike over a car, I’m reducing my environmental footprint. Cycling promotes eco-friendly transportation, and I’m proud to be part of that movement..\"]\n",
    "sentence2 = [\"I wanted to go on a ride last night but I was taking a shower.\"]\n",
    "\n",
    "output1, output2 = stopWordsRemoval(sentence1, sentence2)\n",
    "print(\"BEFORE\")\n",
    "print(sentence1)\n",
    "print(\"AFTER\")\n",
    "print(output1)\n",
    "\n",
    "print(\"BEFORE\")\n",
    "print(sentence2)\n",
    "print(\"AFTER\")\n",
    "print(output2)"
   ]
  },
  {
   "cell_type": "markdown",
   "metadata": {},
   "source": [
    "#"
   ]
  },
  {
   "cell_type": "markdown",
   "metadata": {},
   "source": [
    "# Etichetarea textelor cu emotii folosind kMeans (tool)"
   ]
  },
  {
   "cell_type": "code",
   "execution_count": 20,
   "metadata": {},
   "outputs": [],
   "source": [
    "import pandas as pd\n",
    "import numpy as np\n",
    "\n",
    "def readData(filePath:str):\n",
    "    df = pd.read_csv(filePath)\n",
    "    return df\n",
    "\n",
    "def getTrainingAndValidationSets(dataFrame, trainingSize=0.8):\n",
    "    dataSize = dataFrame.shape[0]\n",
    "    \n",
    "    trainingIndexSet = np.random.choice(range(dataSize), size=int(trainingSize * dataSize), replace=False)\n",
    "    validationIndexSet = [i for i in range(dataSize) if i not in trainingIndexSet]\n",
    "\n",
    "    trainingInputSet = [dataFrame[\"Text\"].iloc[index] for index in trainingIndexSet]\n",
    "    trainingOutputSet = [dataFrame[\"Sentiment\"].iloc[index] for index in trainingIndexSet]\n",
    "\n",
    "    validationInputSet = [dataFrame[\"Text\"].iloc[index] for index in validationIndexSet]\n",
    "    validationOutputSet = [dataFrame[\"Sentiment\"].iloc[index] for index in validationIndexSet]\n",
    "\n",
    "    return trainingInputSet, trainingOutputSet, validationInputSet, validationOutputSet\n",
    "\n",
    "\n",
    "def clasificationPerformance(ground_truth, computed_values, positive_label):\n",
    "    \"\"\"\n",
    "    Returneaza TN (True Negative), FP(False Positive), FN(False Negative), TP(True Positive)\n",
    "    \"\"\"\n",
    "    TN = 0\n",
    "    FP = 0\n",
    "    FN = 0\n",
    "    TP = 0\n",
    "    \n",
    "    for i in range(0, len(ground_truth)):\n",
    "        if ground_truth[i] == positive_label:\n",
    "            if computed_values[i] == positive_label:\n",
    "                TP += 1\n",
    "            else:\n",
    "                FP += 1\n",
    "        else:\n",
    "            if computed_values[i] != positive_label:\n",
    "                TN += 1\n",
    "            else:\n",
    "                FN += 1\n",
    "    return TN, FP, FN, TP\n",
    "\n",
    "\n",
    "def getAccuracy(TN, FP, FN, TP):\n",
    "    \"\"\" \n",
    "    accuracy represents the overall performance of classification model:\n",
    "    (TP+TN)/(TN+FP+FN+TP)\n",
    "    \"\"\"\n",
    "    if (TN+FP+FN+TP) == 0:\n",
    "        return 0\n",
    "    return (TP+TN)/(TN+FP+FN+TP)\n",
    "\n",
    "def getPrecision(FP, TP):\n",
    "    \"\"\"\n",
    "    precision indicates how accurate the positive predictions are \n",
    "    TP/(TP+FP)\n",
    "    \"\"\"\n",
    "    if (TP+FP) == 0:\n",
    "        return 0\n",
    "    return TP/(TP+FP)\n",
    "\n",
    "def getRecall(TP, FN):\n",
    "    \"\"\" \n",
    "    recall indicates the coverage of actual positive sample\n",
    "    TP/(TP+FN)\n",
    "    \"\"\"\n",
    "    if (TP+FN) == 0:\n",
    "        return 0\n",
    "    return TP/(TP+FN)\n",
    "\n"
   ]
  },
  {
   "cell_type": "code",
   "execution_count": 22,
   "metadata": {},
   "outputs": [],
   "source": [
    "from sklearn.cluster import KMeans\n",
    "\n",
    "def getClassifier(trainingFeatures, numberClusters):\n",
    "    clasificator = KMeans(n_clusters=numberClusters, random_state=0)\n",
    "    clasificator.fit(trainingFeatures)\n",
    "    return clasificator\n",
    "\n",
    "def testClassifier(classifier, validationInput, validationOutput, labels, positiveLabel):\n",
    "    computedIndexes = classifier.predict(validationInput)\n",
    "    computedOutput = [labels[index] for index in computedIndexes]\n",
    "    TN, FP, FN, TP = clasificationPerformance(validationOutput, computedOutput, positiveLabel)\n",
    "    accuracy = getAccuracy(TN, FP, FN, TP)\n",
    "    precision = getPrecision(FP, TP)\n",
    "    recall = getRecall(TP, FN)\n",
    "    print(\"Accuracy: {}\\nPrecision: {}\\nRecall: {}\".format(accuracy, precision, recall))"
   ]
  },
  {
   "cell_type": "code",
   "execution_count": null,
   "metadata": {},
   "outputs": [],
   "source": [
    "datas = readData(\"reviews_mixed.csv\")\n",
    "trainingInputSet, trainingOutputSet, validationInputSet, validationOutputSet = getTrainingAndValidationSets(datas)\n",
    "trainingFeatures, validationFeatures = bagOfWords(trainingInputSet, validationInputSet)\n",
    "labels = [label for label in set(trainingOutputSet)]\n",
    "clasificator = getClassifier(trainingFeatures, len(labels))\n",
    "testClassifier(clasificator, validationFeatures, validationOutput, labels, 'positive')"
   ]
  }
 ],
 "metadata": {
  "kernelspec": {
   "display_name": "Python 3",
   "language": "python",
   "name": "python3"
  },
  "language_info": {
   "codemirror_mode": {
    "name": "ipython",
    "version": 3
   },
   "file_extension": ".py",
   "mimetype": "text/x-python",
   "name": "python",
   "nbconvert_exporter": "python",
   "pygments_lexer": "ipython3",
   "version": "3.10.13"
  }
 },
 "nbformat": 4,
 "nbformat_minor": 2
}
