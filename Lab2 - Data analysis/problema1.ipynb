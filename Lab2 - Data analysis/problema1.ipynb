{
 "cells": [
  {
   "cell_type": "code",
   "execution_count": 16,
   "metadata": {},
   "outputs": [],
   "source": [
    "import pandas as pd \n",
    "import numpy as np\n",
    "\n",
    "def readFromFile(file_path):\n",
    "    \"\"\"\n",
    "    Reads data from a file with the given path and returns a data frame that contains the records from the path\n",
    "    file_path: a file's path\n",
    "    return: data frame\n",
    "    \"\"\"\n",
    "    dataFrame = pd.read_csv(file_path, delimiter=',', header='infer')\n",
    "    return dataFrame\n"
   ]
  },
  {
   "cell_type": "code",
   "execution_count": 17,
   "metadata": {},
   "outputs": [],
   "source": [
    "def numberOfEmployees(employees):\n",
    "    \"\"\"\n",
    "    Returns the number of employees in a data frame\n",
    "    employees: data frame\n",
    "    return: number of employees\n",
    "    \"\"\"\n",
    "    return employees.shape[0]"
   ]
  },
  {
   "cell_type": "code",
   "execution_count": 18,
   "metadata": {},
   "outputs": [],
   "source": [
    "def numberAndTypesOfFields(employees):\n",
    "    \"\"\"\n",
    "    Returns the number of fields that an employee has and the type for each field\n",
    "    employees: data frame\n",
    "    \"\"\"\n",
    "    numberOfFields = employees.shape[1]\n",
    "    types = employees.dtypes\n",
    "    return numberOfFields, types\n"
   ]
  },
  {
   "cell_type": "code",
   "execution_count": 19,
   "metadata": {},
   "outputs": [],
   "source": [
    "def numberOfEmployeesThatHaveAllDatasCompleted(employees):\n",
    "    \"\"\"\n",
    "    Returns the number of employees that have all fields completed\n",
    "    employees: data frame\n",
    "    \"\"\"\n",
    "    employeesThatHaveFullData = employees.dropna()\n",
    "    return employeesThatHaveFullData.shape[0]"
   ]
  },
  {
   "cell_type": "code",
   "execution_count": 20,
   "metadata": {},
   "outputs": [],
   "source": [
    "def MinMaxAverageValuesForNumericFields(employees):\n",
    "    \"\"\"\n",
    "    Returns the min, max and average value for each numeric field\n",
    "    employees: data frame\n",
    "    \"\"\"\n",
    "    minValues = employees.min(numeric_only=True)\n",
    "    maxValues = employees.max(numeric_only=True)\n",
    "    averageValues = employees.mean(numeric_only=True)\n",
    "    return minValues, maxValues, averageValues"
   ]
  },
  {
   "cell_type": "code",
   "execution_count": 21,
   "metadata": {},
   "outputs": [],
   "source": [
    "def numberOfPossibleValuesForNonNumericProperties(employees):\n",
    "    \"\"\"\n",
    "    Returns the number of possible values for each non-numeric property in the given data frame\n",
    "    employees: data frame\n",
    "    \"\"\"\n",
    "    return employees.select_dtypes(exclude=np.number).nunique()\n",
    "    "
   ]
  },
  {
   "cell_type": "code",
   "execution_count": 22,
   "metadata": {},
   "outputs": [],
   "source": [
    "def hasEmptyValues(employees):\n",
    "    \"\"\"\n",
    "    Returns True/False\n",
    "    True - if there are rows that have empty properties\n",
    "    False - otherwise\n",
    "    \"\"\"\n",
    "    if numberOfEmployees(employees) == numberOfEmployeesThatHaveAllDatasCompleted(employees):\n",
    "        return False\n",
    "    else:\n",
    "        return True\n",
    "    \n",
    "def replaceEmptyValues(employees):\n",
    "    \"\"\"\n",
    "    Replace empty values with the average value of that property\n",
    "    return: modified data frame\n",
    "    \"\"\"\n",
    "    for property in employees.head(0):\n",
    "        employees[property] = employees[property].fillna(employees[property].mode()[0])\n",
    "    \n",
    "    return employees;\n"
   ]
  },
  {
   "cell_type": "code",
   "execution_count": 23,
   "metadata": {},
   "outputs": [],
   "source": [
    "from matplotlib import pyplot as plt\n",
    "\n",
    "def salaryCategories(employees):\n",
    "    \"\"\"\n",
    "    Histogram that displays the salary distribution of the employees by salary category\n",
    "    \"\"\"\n",
    "    plt.hist(employees.Salary, 15, rwidth=0.8)\n",
    "    plt.show()"
   ]
  },
  {
   "cell_type": "code",
   "execution_count": 24,
   "metadata": {},
   "outputs": [],
   "source": [
    "def salaryandTeamCategories(employees):\n",
    "    \"\"\"\n",
    "    Histogram that displays the salary distribution of the employees based on the salary and the team\n",
    "    \"\"\"\n",
    "    salaryAndTeam = employees[[\"Salary\", \"Team\"]].groupby(\"Team\")\n",
    "    numberOfTeams = len(employees.dropna()[\"Team\"].unique())\n",
    "\n",
    "    fig, axes = plt.subplots(numberOfTeams, 1, figsize=(10, 40))\n",
    "    i = 0\n",
    "    for team, salaryTeam in salaryAndTeam:\n",
    "        salaryTeam[\"Salary\"].plot(kind=\"hist\", ax=axes[i])\n",
    "        axes[i].set_title(team)\n",
    "        i += 1\n",
    "    \n",
    "    plt.show()\n",
    "\n"
   ]
  },
  {
   "cell_type": "code",
   "execution_count": 25,
   "metadata": {},
   "outputs": [],
   "source": [
    "def outlierEmployees(employees):\n",
    "    \"\"\"\n",
    "    Outlier employees\n",
    "    \"\"\"\n",
    "    qmin = employees['Salary'].quantile(0.01) \n",
    "    qmax = employees['Salary'].quantile(0.99)\n",
    "    return employees[~employees.Salary.between(qmin, qmax)]"
   ]
  },
  {
   "cell_type": "code",
   "execution_count": 26,
   "metadata": {},
   "outputs": [],
   "source": [
    "def tests(employees):\n",
    "    #problema1a\n",
    "    assert(numberOfEmployees(employees) == 1000)\n",
    "\n",
    "    assert(numberAndTypesOfFields(employees)[0] == 8)\n",
    "\n",
    "    assert(numberOfEmployeesThatHaveAllDatasCompleted(employees) == 764)\n",
    "    \n",
    "    assert(MinMaxAverageValuesForNumericFields(employees)[0].iloc[0] == 35013.0)\n",
    "    assert(MinMaxAverageValuesForNumericFields(employees)[0].iloc[1] == 1.015)\n",
    "    assert(MinMaxAverageValuesForNumericFields(employees)[1].iloc[0] == 149908.0)\n",
    "    assert(MinMaxAverageValuesForNumericFields(employees)[1].iloc[1] == 19.944)\n",
    "    assert(MinMaxAverageValuesForNumericFields(employees)[2].iloc[0] == 90662.181)\n",
    "    assert(MinMaxAverageValuesForNumericFields(employees)[2].iloc[1] == 10.207555000000001)\n",
    "\n",
    "    assert(numberOfPossibleValuesForNonNumericProperties(employees).iloc[0] == 200)\n",
    "    assert(numberOfPossibleValuesForNonNumericProperties(employees).iloc[1] == 2)\n",
    "    assert(numberOfPossibleValuesForNonNumericProperties(employees).iloc[2] == 972)\n",
    "    assert(numberOfPossibleValuesForNonNumericProperties(employees).iloc[3] == 720)\n",
    "    assert(numberOfPossibleValuesForNonNumericProperties(employees).iloc[4] == 2)\n",
    "    assert(numberOfPossibleValuesForNonNumericProperties(employees).iloc[5] == 10)\n",
    "\n",
    "    assert(hasEmptyValues(employees) == True)\n",
    "    "
   ]
  },
  {
   "cell_type": "code",
   "execution_count": 27,
   "metadata": {},
   "outputs": [],
   "source": [
    "def main():\n",
    "    employees = readFromFile('employees.csv')\n",
    "    tests(employees)\n",
    "    # display(employees)\n",
    "\n",
    "    #PROBLEMA 1A\n",
    "    #a)\n",
    "    # print(numberOfEmployees(employees))\n",
    "\n",
    "    #b)\n",
    "    # nr, types = numberAndTypesOfFields(employees)\n",
    "    # print(nr, '\\n', types)\n",
    "\n",
    "    #c)\n",
    "    # print(numberOfEmployeesThatHaveAllDatasCompleted(employees))\n",
    "\n",
    "    #d)\n",
    "    # minValues, maxValues, averageValues = MinMaxAverageValuesForNumericFields(employees)\n",
    "    # print(minValues)\n",
    "    # print(maxValues)\n",
    "    # print(averageValues)\n",
    "\n",
    "    #e)\n",
    "    # print(numberOfPossibleValuesForNonNumericProperties(employees))\n",
    "\n",
    "    #f)\n",
    "    # print(hasEmptyValues(employees))\n",
    "    # display(replaceEmptyValues(employees))\n",
    "\n",
    "\n",
    "    #PROBLEMA 1B\n",
    "    #a)\n",
    "    # salaryCategories(employees)\n",
    "\n",
    "    #b)\n",
    "    # salaryandTeamCategories(employees)\n",
    "\n",
    "    #c)\n",
    "    # display(outlierEmployees(employees))\n",
    "    \n",
    "\n",
    "main()"
   ]
  }
 ],
 "metadata": {
  "kernelspec": {
   "display_name": "Python 3",
   "language": "python",
   "name": "python3"
  },
  "language_info": {
   "codemirror_mode": {
    "name": "ipython",
    "version": 3
   },
   "file_extension": ".py",
   "mimetype": "text/x-python",
   "name": "python",
   "nbconvert_exporter": "python",
   "pygments_lexer": "ipython3",
   "version": "3.10.13"
  }
 },
 "nbformat": 4,
 "nbformat_minor": 2
}
