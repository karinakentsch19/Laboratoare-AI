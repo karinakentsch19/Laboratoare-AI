{
 "cells": [
  {
   "cell_type": "code",
   "execution_count": 1,
   "metadata": {},
   "outputs": [],
   "source": [
    "import nltk\n",
    "\n",
    "def readText(textFilePath):\n",
    "    \"\"\"\n",
    "    Read the entire text from a file\n",
    "    textFilePath: file that contains a text\n",
    "    return text\n",
    "    \"\"\"\n",
    "    stream = open(textFilePath)\n",
    "    return stream.read()"
   ]
  },
  {
   "cell_type": "code",
   "execution_count": 2,
   "metadata": {},
   "outputs": [],
   "source": [
    "def numberOfSentencesInText(text):\n",
    "    \"\"\"\n",
    "    Returns the number of sentences in a text\n",
    "    text: text\n",
    "    \"\"\"\n",
    "    sentences = nltk.sent_tokenize(text)\n",
    "    return len(sentences)"
   ]
  },
  {
   "cell_type": "code",
   "execution_count": 3,
   "metadata": {},
   "outputs": [],
   "source": [
    "def numberOfWordsInText(text):\n",
    "    \"\"\"\n",
    "    Returns the number of words in a text\n",
    "    text: text\n",
    "    \"\"\"\n",
    "    words = nltk.word_tokenize(text)\n",
    "    return len(words)"
   ]
  },
  {
   "cell_type": "code",
   "execution_count": 4,
   "metadata": {},
   "outputs": [],
   "source": [
    "def numberOfDistinctWordsInText(text):\n",
    "    \"\"\"\n",
    "    Returns the number of distinct words in a text\n",
    "    text: text\n",
    "    \"\"\"\n",
    "    words = nltk.word_tokenize(text)\n",
    "    words = [word for word in words if word.isalnum()]\n",
    "    distinctWords = set(words)\n",
    "    return len(distinctWords)"
   ]
  },
  {
   "cell_type": "code",
   "execution_count": 5,
   "metadata": {},
   "outputs": [],
   "source": [
    "def shortestWordsInText(text):\n",
    "    \"\"\"\n",
    "    Returns the shortest words in a text\n",
    "    text: text\n",
    "    \"\"\"\n",
    "    words = nltk.word_tokenize(text)\n",
    "    words = [word for word in words if word.isalnum()]\n",
    "    shortestWords = min(words, key=len)\n",
    "    return shortestWords\n",
    "\n",
    "\n",
    "def longestWordsInText(text):\n",
    "    \"\"\"\n",
    "    Returns the longest words in a text\n",
    "    text: text\n",
    "    \"\"\"\n",
    "    words = nltk.word_tokenize(text)\n",
    "    words = [word for word in words if word.isalnum()]\n",
    "    longestWords = max(words, key=len)\n",
    "    return longestWords\n"
   ]
  },
  {
   "cell_type": "code",
   "execution_count": 6,
   "metadata": {},
   "outputs": [],
   "source": [
    "import unidecode\n",
    "\n",
    "def textWithoutDiacritics(text):\n",
    "    \"\"\"\n",
    "    Returns the text without diacritics\n",
    "    text: text\n",
    "    \"\"\"\n",
    "    return unidecode.unidecode(text)"
   ]
  },
  {
   "cell_type": "code",
   "execution_count": 7,
   "metadata": {},
   "outputs": [],
   "source": [
    "from PyDictionary import PyDictionary\n",
    "from nltk.corpus import wordnet\n",
    "from rowordnet import RoWordNet\n",
    "\n",
    "def longestWordSynonym(longestWord):\n",
    "    \"\"\"\n",
    "    Returns the longest word's synonym\n",
    "    longestWord: string\n",
    "    \"\"\"\n",
    "    #merge doar pt engleza\n",
    "    # synonyms = PyDictionary().synonym(longestWord)\n",
    "\n",
    "    # synonyms = []\n",
    "    # for synonym in wordnet.synsets(longestWord):\n",
    "    #     for lemma in synonym.lemmas():\n",
    "    #         synonyms.append(lemma.name())\n",
    "\n",
    "    # return set(synonyms)\n",
    "   \n",
    "    # return RoWordNet().synsets(literal=longestWord)\n",
    "\n",
    "\n"
   ]
  },
  {
   "cell_type": "code",
   "execution_count": 24,
   "metadata": {},
   "outputs": [],
   "source": [
    "def tests(text):\n",
    "    assert(numberOfSentencesInText(text) == 10)\n",
    "    assert(numberOfWordsInText(text) == 182)\n",
    "    assert(numberOfDistinctWordsInText(text) == 94)\n",
    "    assert(shortestWordsInText(text) == \"o\")\n",
    "    assert(longestWordsInText(text) == \"laboratoarele\")\n",
    "    "
   ]
  },
  {
   "cell_type": "code",
   "execution_count": 25,
   "metadata": {},
   "outputs": [],
   "source": [
    "def main():\n",
    "    #PROBLEMA 3\n",
    "    text = readText(\"texts.txt\")\n",
    "    tests(text)\n",
    "    #a\n",
    "    # print(numberOfSentencesInText(text))\n",
    "\n",
    "    #b\n",
    "    # print(numberOfWordsInText(text))\n",
    "\n",
    "    #c\n",
    "    # print(numberOfDistinctWordsInText(text))\n",
    "\n",
    "    #d\n",
    "    # print(shortestWordsInText(text))\n",
    "    # print(longestWordsInText(text))\n",
    "\n",
    "    #e\n",
    "    # print(textWithoutDiacritics(text))\n",
    "\n",
    "    #f\n",
    "    # longestWord = longestWordsInText(text)\n",
    "    # print(longestWordSynonym(longestWord))\n",
    "\n",
    "main()"
   ]
  }
 ],
 "metadata": {
  "kernelspec": {
   "display_name": "Python 3",
   "language": "python",
   "name": "python3"
  },
  "language_info": {
   "codemirror_mode": {
    "name": "ipython",
    "version": 3
   },
   "file_extension": ".py",
   "mimetype": "text/x-python",
   "name": "python",
   "nbconvert_exporter": "python",
   "pygments_lexer": "ipython3",
   "version": "3.10.13"
  }
 },
 "nbformat": 4,
 "nbformat_minor": 2
}
