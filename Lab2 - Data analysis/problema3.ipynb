{
 "cells": [
  {
   "cell_type": "code",
   "execution_count": 29,
   "metadata": {},
   "outputs": [],
   "source": [
    "import nltk\n",
    "\n",
    "def readText(textFilePath):\n",
    "    \"\"\"\n",
    "    Read the entire text from a file\n",
    "    textFilePath: file that contains a text\n",
    "    return text\n",
    "    \"\"\"\n",
    "    stream = open(textFilePath)\n",
    "    return stream.read()"
   ]
  },
  {
   "cell_type": "code",
   "execution_count": 30,
   "metadata": {},
   "outputs": [],
   "source": [
    "def numberOfSentencesInText(text):\n",
    "    \"\"\"\n",
    "    Returns the number of sentences in a text\n",
    "    text: text\n",
    "    \"\"\"\n",
    "    sentences = nltk.sent_tokenize(text)\n",
    "    return len(sentences)"
   ]
  },
  {
   "cell_type": "code",
   "execution_count": 31,
   "metadata": {},
   "outputs": [],
   "source": [
    "def numberOfWordsInText(text):\n",
    "    \"\"\"\n",
    "    Returns the number of words in a text\n",
    "    text: text\n",
    "    \"\"\"\n",
    "    words = nltk.word_tokenize(text)\n",
    "    return len(words)"
   ]
  },
  {
   "cell_type": "code",
   "execution_count": 32,
   "metadata": {},
   "outputs": [],
   "source": [
    "def numberOfDistinctWordsInText(text):\n",
    "    \"\"\"\n",
    "    Returns the number of distinct words in a text\n",
    "    text: text\n",
    "    \"\"\"\n",
    "    words = nltk.word_tokenize(text)\n",
    "    words = [word for word in words if word.isalnum()]\n",
    "    distinctWords = set(words)\n",
    "    return len(distinctWords)"
   ]
  },
  {
   "cell_type": "code",
   "execution_count": 35,
   "metadata": {},
   "outputs": [],
   "source": [
    "def shortestWordsInText(text):\n",
    "    \"\"\"\n",
    "    Returns the shortest words in a text\n",
    "    text: text\n",
    "    \"\"\"\n",
    "    words = nltk.word_tokenize(text)\n",
    "    words = [word for word in words if word.isalnum()]\n",
    "    shortestWords = min(words, key=len)\n",
    "    return shortestWords\n",
    "\n",
    "\n",
    "def longestWordsInText(text):\n",
    "    \"\"\"\n",
    "    Returns the longest words in a text\n",
    "    text: text\n",
    "    \"\"\"\n",
    "    words = nltk.word_tokenize(text)\n",
    "    words = [word for word in words if word.isalnum()]\n",
    "    longestWords = max(words, key=len)\n",
    "    return longestWords\n"
   ]
  },
  {
   "cell_type": "code",
   "execution_count": 42,
   "metadata": {},
   "outputs": [],
   "source": [
    "import unidecode\n",
    "\n",
    "def textWithoutDiacritics(text):\n",
    "    \"\"\"\n",
    "    Returns the text without diacritics\n",
    "    text: text\n",
    "    \"\"\"\n",
    "    return unidecode.unidecode(text)"
   ]
  },
  {
   "cell_type": "code",
   "execution_count": 76,
   "metadata": {},
   "outputs": [],
   "source": [
    "from PyDictionary import PyDictionary\n",
    "from nltk.corpus import wordnet\n",
    "from rowordnet import RoWordNet\n",
    "\n",
    "def longestWordSynonym(longestWord):\n",
    "    \"\"\"\n",
    "    Returns the longest word's synonym\n",
    "    longestWord: string\n",
    "    \"\"\"\n",
    "    # synonyms = PyDictionary().synonym(longestWord)\n",
    "\n",
    "    # synonyms = []\n",
    "    # for synonym in wordnet.synsets(longestWord):\n",
    "    #     for lemma in synonym.lemmas():\n",
    "    #         synonyms.append(lemma.name())\n",
    "\n",
    "    # return set(synonyms)\n",
    "   \n",
    "    # return RoWordNet().synsets(literal=longestWord)\n",
    "\n",
    "\n"
   ]
  },
  {
   "cell_type": "code",
   "execution_count": 84,
   "metadata": {},
   "outputs": [
    {
     "name": "stdout",
     "output_type": "stream",
     "text": [
      "Synset: \n",
      "\t  id=ENG30-07526757-n\n",
      "\t  pos=NOUN\n",
      "\t  nonlexicalized=None\n",
      "\t  stamp=luigi\n",
      "\t  domain=psychological_features\n",
      "\t  definition=Stare de mulțumire sufletească intensă și deplină\n",
      "\t  sumo=EmotionalState \n",
      "\t  sumoType=HYPERNYM\n",
      "\t  sentiwn=[0.125, 0.0, 0.875]\n",
      "\t  Literals:\n",
      "\t\t  fericire - 1.x\n",
      "\t  Outbound relations: \n",
      "\t\t  ENG30-00026192-n - hypernym\n",
      "\t\t  ENG30-01148283-a - attribute\n",
      "\t\t  ENG30-07532440-n - near_antonym\n",
      "\t\t  ENG30-01149494-a - attribute\n",
      "\t\t  ENG30-07527061-n - hyponym\n",
      "\t\t  ENG30-07527167-n - hyponym\n",
      "\t\t  ENG30-07529245-n - hyponym\n",
      "\t\t  ENG30-07529817-n - hyponym\n",
      "\t\t  ENG30-07530478-n - hyponym\n",
      "\t\t  ENG30-07531105-n - hyponym\n",
      "\t  Inbound relations: \n",
      "\t\t  ENG30-00026192-n - hyponym\n",
      "\t\t  ENG30-01149494-a - attribute\n",
      "\t\t  ENG30-07532440-n - near_antonym\n",
      "\t\t  ENG30-07527061-n - hypernym\n",
      "\t\t  ENG30-01148283-a - near_eng_derivat\n",
      "\t\t  ENG30-07531105-n - hypernym\n",
      "\t\t  ENG30-07527167-n - hypernym\n",
      "\t\t  ENG30-07529245-n - hypernym\n",
      "\t\t  ENG30-07529817-n - hypernym\n",
      "\t\t  ENG30-07530478-n - hypernym\n"
     ]
    }
   ],
   "source": [
    "def main():\n",
    "    #PROBLEMA 3\n",
    "    text = readText(\"texts.txt\")\n",
    "    #a\n",
    "    # print(numberOfSentencesInText(text))\n",
    "\n",
    "    #b\n",
    "    # print(numberOfWordsInText(text))\n",
    "\n",
    "    #c\n",
    "    # print(numberOfDistinctWordsInText(text))\n",
    "\n",
    "    #d\n",
    "    # print(shortestWordsInText(text))\n",
    "    # print(longestWordsInText(text))\n",
    "\n",
    "    #e\n",
    "    # print(textWithoutDiacritics(text))\n",
    "\n",
    "    #f\n",
    "    longestWord = longestWordsInText(text)\n",
    "    # print(longestWordSynonym(longestWord))\n",
    "\n",
    "main()"
   ]
  }
 ],
 "metadata": {
  "kernelspec": {
   "display_name": "Python 3",
   "language": "python",
   "name": "python3"
  },
  "language_info": {
   "codemirror_mode": {
    "name": "ipython",
    "version": 3
   },
   "file_extension": ".py",
   "mimetype": "text/x-python",
   "name": "python",
   "nbconvert_exporter": "python",
   "pygments_lexer": "ipython3",
   "version": "3.10.13"
  }
 },
 "nbformat": 4,
 "nbformat_minor": 2
}
