{
 "cells": [
  {
   "cell_type": "markdown",
   "metadata": {},
   "source": [
    "# Problema 1: Scopul unui algoritm"
   ]
  },
  {
   "cell_type": "code",
   "execution_count": 14,
   "metadata": {},
   "outputs": [],
   "source": [
    "from numpy.random import choice\n",
    "from math import sqrt\n",
    "\n",
    "class KMeans():\n",
    "    def __init__(self, numarCentroizi) -> None:\n",
    "        self.numarCentroizi = numarCentroizi\n",
    "        self.centroizi = []\n",
    "\n",
    "    def alegereCentroizi(self, input):\n",
    "        pozitii = [i for i in range(input.shape[0])]\n",
    "        pozitii_centroizi = choice(pozitii, self.numarCentroizi)\n",
    "        self.centroizi = [input[i] for i in pozitii_centroizi]\n",
    "\n",
    "    def distantaDintreDouaPuncte(self, punct1, punct2):\n",
    "        x = [(punct1[0, i] - punct2[0, i]) **2 for i in range(punct1.shape[1])]\n",
    "        distanta = sqrt(sum(x))\n",
    "        return distanta\n",
    "\n",
    "    def closeCentroidForAPoint(self, punct):\n",
    "        ind = 0\n",
    "        distantaMinima = self.distantaDintreDouaPuncte(punct, self.centroizi[0])\n",
    "\n",
    "        for i in range(len(self.centroizi)):\n",
    "            distanta = self.distantaDintreDouaPuncte(punct, self.centroizi[i])\n",
    "            if distanta < distantaMinima:\n",
    "                distantaMinima = distanta\n",
    "                ind = i\n",
    "        return ind\n",
    "\n",
    "    def _sumaPuncte(self, input, c, indiceCentroid):\n",
    "        return sum([input[i] for i in range(input.shape[0]) if c[i] == indiceCentroid])\n",
    "\n",
    "    def _numarPuncte(self, c, indiceCentroid):\n",
    "        return c.count(indiceCentroid)\n",
    "    \n",
    "    def train(self, trainingInput):\n",
    "        self.alegereCentroizi(trainingInput)\n",
    "        convergent = False\n",
    "\n",
    "        while not convergent:\n",
    "            c = []\n",
    "            for i in range(trainingInput.shape[0]):\n",
    "                punct = trainingInput[i]\n",
    "                ind = self.closeCentroidForAPoint(punct)\n",
    "                c.append(ind)\n",
    "            \n",
    "            schimbarePozitieCentroidMaxima = -1\n",
    "            for indiceCentroid in range(0, self.numarCentroizi):\n",
    "                centroidNou = self._sumaPuncte(trainingInput, c, indiceCentroid) / self._numarPuncte(c, indiceCentroid)\n",
    "                distanta = self.distantaDintreDouaPuncte(self.centroizi[indiceCentroid], centroidNou)\n",
    "\n",
    "                if distanta > schimbarePozitieCentroidMaxima:\n",
    "                    schimbarePozitieCentroidMaxima = distanta\n",
    "                self.centroizi[indiceCentroid] = centroidNou\n",
    "            \n",
    "            if schimbarePozitieCentroidMaxima < 0.05:\n",
    "                convergent = True\n",
    "    \n",
    "    def predict(self, input):\n",
    "        return [self.closeCentroidForAPoint(i) for i in input]"
   ]
  },
  {
   "cell_type": "code",
   "execution_count": null,
   "metadata": {},
   "outputs": [],
   "source": [
    "def get_embedding_for_a_code_snippet(code_snippet) -> numpy.array:\n",
    "    tokenizer = RobertaTokenizer.from_pretrained(\"microsoft/codebert-base\")\n",
    "    model = RobertaModel.from_pretrained(\"microsoft/codebert-base\")\n",
    "\n",
    "    # Tokenizează codul Python\n",
    "    inputs = tokenizer(code_snippet, return_tensors=\"pt\")\n",
    "\n",
    "    # Obține embedding-uri folosind modelul CodeBERT\n",
    "    with torch.no_grad():\n",
    "        outputs = model(**inputs)\n",
    "\n",
    "    # Extrage embedding-urile\n",
    "    embedding = outputs.last_hidden_state.mean(dim=1).numpy()\n",
    "    return embedding"
   ]
  },
  {
   "cell_type": "markdown",
   "metadata": {},
   "source": [
    "# Problema 2: Specificatii pentru un algoritm"
   ]
  },
  {
   "cell_type": "code",
   "execution_count": null,
   "metadata": {},
   "outputs": [],
   "source": []
  },
  {
   "cell_type": "markdown",
   "metadata": {},
   "source": [
    "# Problema 3: Generare de cod"
   ]
  },
  {
   "cell_type": "code",
   "execution_count": 7,
   "metadata": {},
   "outputs": [],
   "source": [
    "from transformers import AutoTokenizer, AutoModelForCausalLM\n",
    "\n",
    "def incarcareModel():\n",
    "    # Load tokenizer and model\n",
    "    tokenizer = AutoTokenizer.from_pretrained(\"Daoguang/PyCodeGPT\")\n",
    "    model = AutoModelForCausalLM.from_pretrained(\"Daoguang/PyCodeGPT\")\n",
    "    return tokenizer, model\n",
    " \n",
    "\n",
    "def genereazaCod(descriere, tokenizer, model, max_length=100):\n",
    "   # Encode the input with attention mask\n",
    "    inputs = tokenizer(descriere, return_tensors=\"pt\", padding=True)\n",
    "\n",
    "    # Generate code\n",
    "    outputs = model.generate(inputs['input_ids'], attention_mask=inputs['attention_mask'], max_length=max_length, num_return_sequences=1)\n",
    "\n",
    "    # Decode the generated code\n",
    "    generated_code = tokenizer.decode(outputs[0], skip_special_tokens=True) \n",
    "    return generated_code\n"
   ]
  },
  {
   "cell_type": "markdown",
   "metadata": {},
   "source": [
    "## Exemplu 1"
   ]
  },
  {
   "cell_type": "code",
   "execution_count": 8,
   "metadata": {},
   "outputs": [
    {
     "name": "stderr",
     "output_type": "stream",
     "text": [
      "Setting `pad_token_id` to `eos_token_id`:0 for open-end generation.\n"
     ]
    },
    {
     "name": "stdout",
     "output_type": "stream",
     "text": [
      "Write a python function that has 2 parameters a and b and return their sum.\n",
      "\n",
      "def sum_of_two_numbers(a, b):\n",
      "    return a + b\n",
      "\n",
      "print(sum_of_two_numbers(1,\n"
     ]
    }
   ],
   "source": [
    "tokenizer, model = incarcareModel()\n",
    "descriere = \"Write a python function that has 2 parameters a and b and return their sum.\"\n",
    "cod = genereazaCod(descriere, tokenizer, model, max_length=50)\n",
    "print(cod)"
   ]
  },
  {
   "cell_type": "markdown",
   "metadata": {},
   "source": [
    "## Exemplu 2"
   ]
  },
  {
   "cell_type": "code",
   "execution_count": 9,
   "metadata": {},
   "outputs": [
    {
     "name": "stderr",
     "output_type": "stream",
     "text": [
      "Setting `pad_token_id` to `eos_token_id`:0 for open-end generation.\n"
     ]
    },
    {
     "name": "stdout",
     "output_type": "stream",
     "text": [
      "Write a python function that has 2 parameters a and b and returns their highest common factor.\n",
      "\n",
      "def gcd(a, b):\n",
      "    if b == 0:\n",
      "        return a\n",
      "    return gcd(b, a % b)\n",
      "\n",
      "def gcd\n"
     ]
    }
   ],
   "source": [
    "tokenizer, model = incarcareModel()\n",
    "descriere = \"Write a python function that has 2 parameters a and b and returns their highest common factor.\"\n",
    "cod = genereazaCod(descriere, tokenizer, model, max_length=50)\n",
    "print(cod)"
   ]
  },
  {
   "cell_type": "markdown",
   "metadata": {},
   "source": [
    "## Exemplu 3"
   ]
  },
  {
   "cell_type": "code",
   "execution_count": 13,
   "metadata": {},
   "outputs": [
    {
     "name": "stderr",
     "output_type": "stream",
     "text": [
      "Setting `pad_token_id` to `eos_token_id`:0 for open-end generation.\n"
     ]
    },
    {
     "name": "stdout",
     "output_type": "stream",
     "text": [
      "Write a python function that has one parameter, an array, and sorts it using merge sort.\n",
      "\n",
      "# In[ ]:\n",
      "\n",
      "\n",
      "def mergeSort(arr):\n",
      "    if len(arr) > 1:\n",
      "        mid = len(arr) // 2\n",
      "        left = arr[:mid]\n",
      "        right = arr[mid:]\n",
      "\n",
      "        mergeSort(left)\n",
      "        mergeSort(right)\n",
      "\n",
      "        i = 0\n",
      "        j = 0\n",
      "        k = 0\n",
      "\n",
      "        while i < len(left) and j < len(right):\n",
      "            if left[i] < right[j]:\n",
      "                arr[k] = left[i]\n",
      "                i += 1\n",
      "            else:\n",
      "                arr[k] = right[j]\n",
      "                j += 1\n",
      "            k += 1\n",
      "\n",
      "        while i < len(left):\n",
      "            arr[k] = left[i]\n",
      "            i += 1\n",
      "            k += 1\n",
      "\n",
      "        while j < len(right):\n",
      "            arr[k] = right[j]\n",
      "            j += 1\n",
      "            k += 1\n",
      "\n",
      "# In[ ]:\n",
      "\n",
      "\n",
      "mergeSort(arr)\n",
      "\n",
      "\n",
      "# In[ ]:\n",
      "\n",
      "\n",
      "# Sort the array using merge sort\n",
      "\n",
      "# In[ ]:\n",
      "\n",
      "\n",
      "def mergeSort(arr):\n",
      "    if len(arr) > 1:\n",
      "        mid = len(arr) // 2\n",
      "        left = arr[:mid]\n",
      "        right = arr[mid:]\n",
      "\n",
      "        mergeSort(left)\n",
      "        mergeSort(right)\n",
      "\n",
      "        i = 0\n",
      "        j = 0\n",
      "        k = 0\n",
      "\n",
      "        while i < len(left):\n",
      "            arr[k] = left[i]\n",
      "            i += 1\n",
      "            k += 1\n",
      "\n",
      "        while j < len(right):\n",
      "            arr[k] = right[j]\n",
      "            j += 1\n",
      "            k += 1\n",
      "\n",
      "# In[ ]:\n",
      "\n",
      "\n",
      "mergeSort(arr)\n",
      "\n",
      "\n",
      "# In[ ]:\n",
      "\n",
      "\n",
      "# Sort the array using merge sort\n",
      "\n",
      "# In[ ]:\n",
      "\n",
      "\n",
      "def mergeSort(arr):\n",
      "    if len(arr) > 1:\n",
      "        mid = len(arr) // 2\n",
      "        left = arr[:mid]\n",
      "        right = arr[mid:]\n",
      "\n",
      "        mergeSort(left)\n",
      "        mergeSort(right)\n",
      "\n",
      "        i = 0\n",
      "        j = 0\n",
      "        k = 0\n",
      "\n",
      "        while i < len(left):\n",
      "            arr[k] = left[i]\n",
      "            i += 1\n",
      "            k += 1\n",
      "\n",
      "        while j < len(right):\n",
      "            arr[k] = right[j]\n",
      "            j += 1\n",
      "            k += 1\n",
      "\n",
      "# In[ ]:\n",
      "\n",
      "\n",
      "mergeSort(arr)\n",
      "\n",
      "\n",
      "# In[ ]:\n",
      "\n",
      "\n",
      "# Sort the array using merge sort\n",
      "\n",
      "# In[ ]:\n",
      "\n",
      "\n",
      "def mergeSort(arr):\n",
      "    if len(arr) > 1:\n",
      "        mid = len(arr) // 2\n",
      "        left = arr[:mid]\n",
      "        right = arr[mid:]\n",
      "\n",
      "        mergeSort(left)\n",
      "        mergeSort(right)\n",
      "\n",
      "        i = 0\n",
      "        j = 0\n",
      "        k = 0\n",
      "\n",
      "        while i < len(left):\n",
      "            arr[k] = left[i]\n",
      "            i += 1\n",
      "            k += 1\n",
      "\n",
      "        while j < len(right):\n",
      "            arr[k] = right[j]\n",
      "            j += 1\n",
      "            k += 1\n",
      "\n",
      "# In[ ]:\n",
      "\n",
      "\n",
      "mergeSort(arr)\n",
      "\n",
      "\n",
      "# In[ ]:\n",
      "\n",
      "\n",
      "# Sort the array using merge sort\n",
      "\n",
      "# In[ ]:\n",
      "\n",
      "\n",
      "def mergeSort(arr):\n",
      "    if len(arr)\n"
     ]
    }
   ],
   "source": [
    "tokenizer, model = incarcareModel()\n",
    "descriere = \"Write a python function that has one parameter, an array, and sorts it using merge sort.\"\n",
    "cod = genereazaCod(descriere, tokenizer, model, max_length=700)\n",
    "print(cod)"
   ]
  }
 ],
 "metadata": {
  "kernelspec": {
   "display_name": "Python 3",
   "language": "python",
   "name": "python3"
  },
  "language_info": {
   "codemirror_mode": {
    "name": "ipython",
    "version": 3
   },
   "file_extension": ".py",
   "mimetype": "text/x-python",
   "name": "python",
   "nbconvert_exporter": "python",
   "pygments_lexer": "ipython3",
   "version": "3.10.13"
  }
 },
 "nbformat": 4,
 "nbformat_minor": 2
}
